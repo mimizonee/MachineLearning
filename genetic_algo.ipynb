{
  "nbformat": 4,
  "nbformat_minor": 0,
  "metadata": {
    "colab": {
      "name": "genetic_algo.ipynb",
      "provenance": [],
      "collapsed_sections": [],
      "include_colab_link": true
    },
    "kernelspec": {
      "name": "python3",
      "display_name": "Python 3"
    },
    "language_info": {
      "name": "python"
    }
  },
  "cells": [
    {
      "cell_type": "markdown",
      "metadata": {
        "id": "view-in-github",
        "colab_type": "text"
      },
      "source": [
        "<a href=\"https://colab.research.google.com/github/mimizonee/MachineLearning/blob/main/genetic_algo.ipynb\" target=\"_parent\"><img src=\"https://colab.research.google.com/assets/colab-badge.svg\" alt=\"Open In Colab\"/></a>"
      ]
    },
    {
      "cell_type": "code",
      "metadata": {
        "id": "KPU1aalqLtyr"
      },
      "source": [
        "import random"
      ],
      "execution_count": null,
      "outputs": []
    },
    {
      "cell_type": "code",
      "metadata": {
        "id": "US56xkDxb54l"
      },
      "source": [
        "POPULATION_SIZE = 8\n",
        "VECTOR_LENGTH = 32\n",
        "CROSSOVER_RATE = 0.9\n",
        "MUTATION_RATE = 0.1\n",
        "NUMBER_OF_ITERATIONS = 500\n"
      ],
      "execution_count": null,
      "outputs": []
    },
    {
      "cell_type": "code",
      "metadata": {
        "id": "XUYHgOD9KJti"
      },
      "source": [
        "def randomBool():\n",
        "  rand = random.random()\n",
        "  if (rand > 0.5) :\n",
        "    return 1\n",
        "  else :\n",
        "    return 0\n",
        "\n",
        "def randomBoolArray() :\n",
        "    arr = [];\n",
        "    for i in range(VECTOR_LENGTH) :\n",
        "        arr.append(randomBool());\n",
        "    return arr;\n",
        "\n",
        "def value (sol_vector) :\n",
        "    res = 0 \n",
        "    for i in range(VECTOR_LENGTH-1,0,-1):\n",
        "      if(sol_vector[i]==1) : \n",
        "        res += pow(2,i)\n",
        "    x = res*256/(pow(2,VECTOR_LENGTH)-1)\n",
        "    return x\n",
        "\n",
        "def f(sol_vector) :\n",
        "  x =  value(sol_vector)\n",
        "  return x*(256-x)\n",
        "\n",
        "def display_population(chromosome) :\n",
        "  for i in range(POPULATION_SIZE) : \n",
        "    print(chromosome[i])\n",
        "    print(\" = \" , value(chromosome[i]), \" ------> f(x) \", f(chromosome[i])) \n",
        "  \n"
      ],
      "execution_count": null,
      "outputs": []
    },
    {
      "cell_type": "code",
      "metadata": {
        "id": "sNBv9mVgMGRF"
      },
      "source": [
        "def selection(chromosome):\n",
        "  total_fitness = 0\n",
        "  k = -1\n",
        "  val = 0.0\n",
        "  j = 0\n",
        "  n = len(chromosome)\n",
        "\n",
        "  new_gen_chromosome = []\n",
        "\n",
        "  r_wheel = []\n",
        "\n",
        "  for i in range(0,n):\n",
        "    total_fitness += f(chromosome[i]);\n",
        "    if(f(chromosome[i]) > val):\n",
        "      val = f(chromosome[i])\n",
        "      j = i;\n",
        "\n",
        "  r_wheel.append(f(chromosome[0])/total_fitness);\n",
        "  for i in range(1,n):\n",
        "    r_wheel.append(r_wheel[i-1] + f(chromosome[i])/total_fitness)\n",
        "\n",
        "  new_gen_chromosome.append(chromosome[j]);\n",
        "\n",
        "  for i in range(1,POPULATION_SIZE):\n",
        "    r = random.random()\n",
        "    for j in range(0,n):\n",
        "      if(r<r_wheel[j]):\n",
        "        k = j;\n",
        "      else:\n",
        "        break\n",
        "    new_gen_chromosome.append(chromosome[k])\n",
        "    \n",
        "  return new_gen_chromosome"
      ],
      "execution_count": null,
      "outputs": []
    },
    {
      "cell_type": "code",
      "metadata": {
        "id": "giPwrUHuUPTG"
      },
      "source": [
        "def crossover(chromosome):\n",
        "  crossover_population = int(CROSSOVER_RATE*POPULATION_SIZE)\n",
        "  parent = [[],[]]\n",
        "  i=0\n",
        "  j=0\n",
        "  k=0\n",
        "  while(True):\n",
        "    if(i==0):\n",
        "      arr = randomBoolArray()\n",
        "    if(arr[i]==1):\n",
        "      parent[k] = []\n",
        "      for a in range(0,VECTOR_LENGTH):\n",
        "        parent[k].append(chromosome[i][a])\n",
        "      k = k+1\n",
        "    \n",
        "    if(k==2):\n",
        "      k=0\n",
        "      index = int(random.random()*(VECTOR_LENGTH-2) + 1)\n",
        "      for m in range(0,index):\n",
        "        temp = parent[0][m]\n",
        "        parent[0][m] = parent[1][m]\n",
        "        parent[1][m] = temp\n",
        "      \n",
        "      chromosome.append(parent[0])\n",
        "      chromosome.append(parent[1])\n",
        "      j += 2\n",
        "\n",
        "      if(j>crossover_population):\n",
        "        break\n",
        "\n",
        "  return chromosome;\n"
      ],
      "execution_count": null,
      "outputs": []
    },
    {
      "cell_type": "code",
      "metadata": {
        "id": "CtP68I65W63D"
      },
      "source": [
        "def mutation(chromosome):\n",
        "  mutation_population = int(MUTATION_RATE*POPULATION_SIZE)\n",
        "  i=0\n",
        "  j=0\n",
        "  k=0\n",
        "  while(True):\n",
        "    if(i==0):\n",
        "      arr = randomBoolArray()\n",
        "    if(arr[i]==1):\n",
        "      index = int(random.random()*(VECTOR_LENGTH-1))\n",
        "      parent=[]\n",
        "      for a in range(0,VECTOR_LENGTH):\n",
        "        parent.append(chromosome[i][a])\n",
        "      parent[index] = (parent[index]+1)%2\n",
        "      chromosome.append(parent)\n",
        "      j=j+1\n",
        "      if(j>mutation_population):\n",
        "        break\n",
        "  return chromosome\n",
        "  "
      ],
      "execution_count": null,
      "outputs": []
    },
    {
      "cell_type": "code",
      "metadata": {
        "id": "RUj0I742U0A0",
        "colab": {
          "base_uri": "https://localhost:8080/"
        },
        "outputId": "f7bfe0de-8248-42a5-a860-70d960321623"
      },
      "source": [
        "def main() :\n",
        "  #initialize population\n",
        "  chromosome = []\n",
        "  for i in range(POPULATION_SIZE) :\n",
        "    chromosome.append(randomBoolArray())\n",
        "\n",
        "  display_population(chromosome)\n",
        "  print(\"---------------\")\n",
        "  for i in range(NUMBER_OF_ITERATIONS) :\n",
        "    #print(\"---------------\")\n",
        "    chromosome = selection(chromosome)\n",
        "    chromosome = crossover(chromosome)\n",
        "    chromosome = mutation(chromosome)\n",
        "  display_population(chromosome)\n",
        "\n",
        "  return 0\n",
        "\n",
        "main()\n"
      ],
      "execution_count": null,
      "outputs": [
        {
          "output_type": "stream",
          "text": [
            "[1, 1, 1, 0, 0, 0, 0, 0, 1, 0, 0, 0, 1, 1, 1, 1, 1, 0, 0, 0, 0, 1, 1, 1, 1, 1, 1, 0, 0, 0, 1, 0]\n",
            " =  71.8825839925284  ------> f(x)  13234.83562064437\n",
            "[1, 0, 1, 1, 0, 0, 0, 0, 1, 0, 0, 0, 0, 1, 0, 1, 1, 1, 1, 1, 1, 0, 0, 0, 0, 1, 1, 1, 1, 1, 0, 1]\n",
            " =  190.12355117456138  ------> f(x)  12524.664389461654\n",
            "[0, 0, 1, 0, 1, 0, 1, 1, 0, 0, 0, 1, 1, 0, 0, 0, 0, 1, 0, 0, 1, 0, 0, 0, 0, 0, 0, 1, 0, 1, 0, 1]\n",
            " =  168.0706913862542  ------> f(x)  14778.339691827574\n",
            "[0, 1, 0, 1, 1, 0, 1, 0, 0, 1, 0, 0, 0, 0, 1, 0, 0, 0, 1, 0, 0, 0, 1, 0, 0, 1, 0, 0, 0, 0, 0, 1]\n",
            " =  130.2666374748262  ------> f(x)  16378.862354557714\n",
            "[1, 0, 0, 1, 1, 1, 1, 0, 0, 0, 0, 1, 1, 1, 1, 1, 0, 1, 1, 1, 0, 1, 0, 0, 1, 1, 1, 1, 0, 0, 0, 0]\n",
            " =  15.183478835780052  ------> f(x)  3656.432552403113\n",
            "[0, 0, 1, 0, 1, 0, 0, 1, 0, 1, 1, 1, 1, 1, 0, 1, 1, 0, 1, 1, 0, 0, 1, 0, 0, 1, 1, 0, 1, 1, 1, 1]\n",
            " =  246.30368929875635  ------> f(x)  2388.2370983033215\n",
            "[0, 1, 1, 1, 0, 1, 0, 0, 0, 1, 0, 0, 1, 1, 1, 0, 0, 1, 0, 1, 1, 1, 0, 0, 0, 0, 0, 0, 0, 1, 1, 0]\n",
            " =  96.22830476617169  ------> f(x)  15374.559381968733\n",
            "[0, 1, 0, 1, 0, 0, 0, 0, 1, 1, 0, 1, 0, 1, 0, 0, 1, 1, 0, 1, 0, 0, 1, 0, 0, 1, 0, 0, 0, 1, 0, 0]\n",
            " =  34.293625481960746  ------> f(x)  7603.115374684963\n",
            "---------------\n",
            "[0, 0, 0, 1, 0, 0, 0, 0, 0, 0, 0, 0, 0, 0, 0, 0, 0, 0, 0, 0, 0, 0, 0, 0, 0, 0, 0, 0, 0, 0, 0, 1]\n",
            " =  128.00000050663948  ------> f(x)  16384.0\n",
            "[0, 0, 0, 1, 0, 0, 0, 0, 0, 0, 0, 0, 0, 0, 0, 0, 0, 0, 0, 0, 0, 1, 0, 0, 0, 0, 0, 0, 0, 0, 0, 1]\n",
            " =  128.12500050666858  ------> f(x)  16383.984374873333\n",
            "[0, 0, 0, 1, 0, 0, 0, 0, 0, 0, 0, 0, 0, 0, 0, 0, 0, 0, 0, 0, 0, 1, 0, 0, 0, 0, 0, 0, 0, 0, 0, 1]\n",
            " =  128.12500050666858  ------> f(x)  16383.984374873333\n",
            "[0, 0, 0, 1, 0, 0, 0, 0, 0, 0, 0, 0, 0, 0, 0, 0, 0, 0, 0, 0, 0, 1, 0, 0, 0, 0, 0, 0, 0, 0, 0, 1]\n",
            " =  128.12500050666858  ------> f(x)  16383.984374873333\n",
            "[0, 0, 0, 1, 0, 0, 0, 0, 0, 0, 0, 0, 0, 0, 0, 0, 0, 0, 0, 0, 0, 1, 0, 0, 0, 0, 0, 0, 0, 0, 0, 1]\n",
            " =  128.12500050666858  ------> f(x)  16383.984374873333\n",
            "[0, 0, 0, 1, 0, 0, 0, 0, 0, 0, 0, 0, 0, 0, 0, 0, 0, 0, 0, 0, 0, 1, 0, 0, 0, 0, 0, 0, 0, 0, 0, 1]\n",
            " =  128.12500050666858  ------> f(x)  16383.984374873333\n",
            "[0, 0, 0, 1, 0, 0, 0, 0, 0, 0, 0, 0, 0, 0, 0, 0, 0, 0, 0, 0, 0, 1, 0, 0, 0, 0, 0, 0, 0, 0, 0, 1]\n",
            " =  128.12500050666858  ------> f(x)  16383.984374873333\n",
            "[0, 0, 0, 1, 0, 0, 0, 0, 0, 0, 0, 0, 0, 0, 0, 0, 0, 0, 0, 0, 0, 1, 0, 0, 0, 0, 0, 0, 0, 0, 0, 1]\n",
            " =  128.12500050666858  ------> f(x)  16383.984374873333\n"
          ],
          "name": "stdout"
        },
        {
          "output_type": "execute_result",
          "data": {
            "text/plain": [
              "0"
            ]
          },
          "metadata": {
            "tags": []
          },
          "execution_count": 19
        }
      ]
    }
  ]
}