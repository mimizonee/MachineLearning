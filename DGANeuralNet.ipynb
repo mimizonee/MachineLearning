{
  "nbformat": 4,
  "nbformat_minor": 0,
  "metadata": {
    "colab": {
      "name": "DGANeuralNet.ipynb",
      "provenance": [],
      "collapsed_sections": [],
      "toc_visible": true,
      "include_colab_link": true
    },
    "kernelspec": {
      "name": "python3",
      "display_name": "Python 3"
    }
  },
  "cells": [
    {
      "cell_type": "markdown",
      "metadata": {
        "id": "view-in-github",
        "colab_type": "text"
      },
      "source": [
        "<a href=\"https://colab.research.google.com/github/mimizonee/MachineLearning/blob/main/DGANeuralNet.ipynb\" target=\"_parent\"><img src=\"https://colab.research.google.com/assets/colab-badge.svg\" alt=\"Open In Colab\"/></a>"
      ]
    },
    {
      "cell_type": "code",
      "metadata": {
        "id": "cgZLRWso7fIQ",
        "colab": {
          "base_uri": "https://localhost:8080/",
          "height": 35
        },
        "outputId": "2eee693b-3c12-4f30-ed0c-bfbe6d78586d"
      },
      "source": [
        "import numpy as np\n",
        "import pandas as pd\n",
        "import tensorflow as tf\n",
        "tf.__version__"
      ],
      "execution_count": 1,
      "outputs": [
        {
          "output_type": "execute_result",
          "data": {
            "application/vnd.google.colaboratory.intrinsic+json": {
              "type": "string"
            },
            "text/plain": [
              "'2.5.0'"
            ]
          },
          "metadata": {
            "tags": []
          },
          "execution_count": 1
        }
      ]
    },
    {
      "cell_type": "markdown",
      "metadata": {
        "id": "HShxQXpJXzW4"
      },
      "source": [
        "Dataset for PD"
      ]
    },
    {
      "cell_type": "code",
      "metadata": {
        "id": "wv7YkC5U9Gqk"
      },
      "source": [
        "dataset = pd.read_csv('Mydatasetcsv.csv')\n",
        "x = dataset.iloc[:, [1,2,3,4,5,6,8,9]].values\n",
        "y = dataset.iloc[:, -1].values"
      ],
      "execution_count": null,
      "outputs": []
    },
    {
      "cell_type": "markdown",
      "metadata": {
        "id": "KdmAZwnwdGTb"
      },
      "source": [
        "Dataset for Entire Classification process"
      ]
    },
    {
      "cell_type": "code",
      "metadata": {
        "id": "yShugbvpdr1R"
      },
      "source": [
        "dataset = pd.read_csv('MydatasetPDremoved.csv')\n",
        "x = dataset.iloc[:, [1,2,3,4,5,6,8,9]].values\n",
        "y = dataset.iloc[:, -4:].values"
      ],
      "execution_count": null,
      "outputs": []
    },
    {
      "cell_type": "code",
      "metadata": {
        "id": "Qc5oXWWE9OyK",
        "colab": {
          "base_uri": "https://localhost:8080/"
        },
        "outputId": "af9a5fdb-8ffa-4a5b-8a60-06eee727d73f"
      },
      "source": [
        "print(x[5])"
      ],
      "execution_count": null,
      "outputs": [
        {
          "output_type": "stream",
          "text": [
            "[2.24000000e+03 9.00000000e+01 1.57000000e+02 1.57000000e+02\n",
            " 4.50000000e+01 1.24936393e+00 1.00973964e+01 4.16511714e+00]\n"
          ],
          "name": "stdout"
        }
      ]
    },
    {
      "cell_type": "code",
      "metadata": {
        "id": "MGa-Pv_h9P-2",
        "colab": {
          "base_uri": "https://localhost:8080/",
          "height": 34
        },
        "outputId": "241fa40b-8807-4750-da9b-39359803f995"
      },
      "source": [
        "print(y[0])"
      ],
      "execution_count": null,
      "outputs": [
        {
          "output_type": "stream",
          "text": [
            "[0 0 0 1]\n"
          ],
          "name": "stdout"
        }
      ]
    },
    {
      "cell_type": "markdown",
      "metadata": {
        "id": "izdvqbS2-oXk"
      },
      "source": [
        "Feature Scaling"
      ]
    },
    {
      "cell_type": "code",
      "metadata": {
        "id": "EvBYxtqY-rad"
      },
      "source": [
        "from sklearn.preprocessing import StandardScaler\n",
        "from sklearn.preprocessing import RobustScaler\n",
        "sc = StandardScaler()\n",
        "x = sc.fit_transform(x)"
      ],
      "execution_count": null,
      "outputs": []
    },
    {
      "cell_type": "code",
      "metadata": {
        "id": "9j4ArNTE-uuY",
        "colab": {
          "base_uri": "https://localhost:8080/",
          "height": 51
        },
        "outputId": "637f845c-6de7-442b-e4fa-8361cab088d5"
      },
      "source": [
        "print(x[0])"
      ],
      "execution_count": null,
      "outputs": [
        {
          "output_type": "stream",
          "text": [
            "[-0.29037902 -0.11848897 -0.20586146 -0.19975701 -0.17079958 -0.78392176\n",
            " -0.07785073 -1.24396786]\n"
          ],
          "name": "stdout"
        }
      ]
    },
    {
      "cell_type": "markdown",
      "metadata": {
        "id": "RwetpEeM-2ko"
      },
      "source": [
        "Splitting the dataset into the Training set and Test set"
      ]
    },
    {
      "cell_type": "code",
      "metadata": {
        "id": "HjGt4ZUN-3mb"
      },
      "source": [
        "from sklearn.model_selection import train_test_split\n",
        "x_train, x_test, y_train, y_test = train_test_split(x, y, test_size = 0.2, random_state = 0)"
      ],
      "execution_count": null,
      "outputs": []
    },
    {
      "cell_type": "markdown",
      "metadata": {
        "id": "vgAg8nX2_AEX"
      },
      "source": [
        "Neural Net Model for PD data classification"
      ]
    },
    {
      "cell_type": "code",
      "metadata": {
        "id": "iC-tXKTK_Cwm"
      },
      "source": [
        "ann = tf.keras.models.Sequential()\n",
        "ann.add(tf.keras.layers.Dense(units=128, input_dim = 8,activation='relu'))\n",
        "ann.add(tf.keras.layers.Dense(units=128, activation='relu'))\n",
        "ann.add(tf.keras.layers.Dense(units=128, activation='relu'))\n",
        "ann.add(tf.keras.layers.Dense(units=1, activation='sigmoid'))\n",
        "ann.compile(optimizer = 'adam', loss = 'binary_crossentropy', metrics = ['accuracy'])"
      ],
      "execution_count": null,
      "outputs": []
    },
    {
      "cell_type": "markdown",
      "metadata": {
        "id": "CcPtSfWDefl3"
      },
      "source": [
        "Neural Net Model for multiclass classification"
      ]
    },
    {
      "cell_type": "code",
      "metadata": {
        "id": "dR9X7UUcel3h"
      },
      "source": [
        "ann = tf.keras.models.Sequential()\n",
        "ann.add(tf.keras.layers.Dense(units=128, input_dim = 8,activation='relu'))\n",
        "ann.add(tf.keras.layers.Dense(units=128, activation='relu'))\n",
        "ann.add(tf.keras.layers.Dense(units=128, activation='relu'))\n",
        "ann.add(tf.keras.layers.Dense(units=128, activation='sigmoid'))\n",
        "ann.add(tf.keras.layers.Dense(units=4, activation='softmax'))\n",
        "ann.compile(optimizer = 'adam', loss = 'binary_crossentropy', metrics = ['accuracy'])"
      ],
      "execution_count": null,
      "outputs": []
    },
    {
      "cell_type": "markdown",
      "metadata": {
        "id": "6DRSbx0h_iOT"
      },
      "source": [
        "Training"
      ]
    },
    {
      "cell_type": "code",
      "metadata": {
        "id": "MQCylkSLqmno",
        "colab": {
          "base_uri": "https://localhost:8080/"
        },
        "outputId": "16050e97-acfc-4e16-91c4-7731a78fbd0f"
      },
      "source": [
        "history = ann.fit(x_train, y_train, validation_split=0.2,batch_size = 16, epochs = 100, verbose=2)"
      ],
      "execution_count": null,
      "outputs": [
        {
          "output_type": "stream",
          "text": [
            "Epoch 1/100\n",
            "20/20 - 1s - loss: 0.5190 - accuracy: 0.8313 - val_loss: 0.3424 - val_accuracy: 0.9250\n",
            "Epoch 2/100\n",
            "20/20 - 0s - loss: 0.3302 - accuracy: 0.8906 - val_loss: 0.2617 - val_accuracy: 0.9500\n",
            "Epoch 3/100\n",
            "20/20 - 0s - loss: 0.2991 - accuracy: 0.8969 - val_loss: 0.2288 - val_accuracy: 0.9500\n",
            "Epoch 4/100\n",
            "20/20 - 0s - loss: 0.2842 - accuracy: 0.9031 - val_loss: 0.3104 - val_accuracy: 0.8750\n",
            "Epoch 5/100\n",
            "20/20 - 0s - loss: 0.2753 - accuracy: 0.9031 - val_loss: 0.2192 - val_accuracy: 0.9250\n",
            "Epoch 6/100\n",
            "20/20 - 0s - loss: 0.2565 - accuracy: 0.9187 - val_loss: 0.2645 - val_accuracy: 0.9125\n",
            "Epoch 7/100\n",
            "20/20 - 0s - loss: 0.2569 - accuracy: 0.9156 - val_loss: 0.2343 - val_accuracy: 0.9125\n",
            "Epoch 8/100\n",
            "20/20 - 0s - loss: 0.2493 - accuracy: 0.9125 - val_loss: 0.2302 - val_accuracy: 0.9250\n",
            "Epoch 9/100\n",
            "20/20 - 0s - loss: 0.2437 - accuracy: 0.9156 - val_loss: 0.2095 - val_accuracy: 0.9375\n",
            "Epoch 10/100\n",
            "20/20 - 0s - loss: 0.2425 - accuracy: 0.9156 - val_loss: 0.2620 - val_accuracy: 0.9125\n",
            "Epoch 11/100\n",
            "20/20 - 0s - loss: 0.2360 - accuracy: 0.9125 - val_loss: 0.3039 - val_accuracy: 0.8750\n",
            "Epoch 12/100\n",
            "20/20 - 0s - loss: 0.2300 - accuracy: 0.9219 - val_loss: 0.2351 - val_accuracy: 0.9250\n",
            "Epoch 13/100\n",
            "20/20 - 0s - loss: 0.2372 - accuracy: 0.9094 - val_loss: 0.2904 - val_accuracy: 0.8875\n",
            "Epoch 14/100\n",
            "20/20 - 0s - loss: 0.2242 - accuracy: 0.9125 - val_loss: 0.2460 - val_accuracy: 0.9125\n",
            "Epoch 15/100\n",
            "20/20 - 0s - loss: 0.2264 - accuracy: 0.9125 - val_loss: 0.2720 - val_accuracy: 0.9250\n",
            "Epoch 16/100\n",
            "20/20 - 0s - loss: 0.2201 - accuracy: 0.9094 - val_loss: 0.2636 - val_accuracy: 0.9250\n",
            "Epoch 17/100\n",
            "20/20 - 0s - loss: 0.2263 - accuracy: 0.9094 - val_loss: 0.3293 - val_accuracy: 0.8875\n",
            "Epoch 18/100\n",
            "20/20 - 0s - loss: 0.2285 - accuracy: 0.9125 - val_loss: 0.3301 - val_accuracy: 0.8875\n",
            "Epoch 19/100\n",
            "20/20 - 0s - loss: 0.2369 - accuracy: 0.9125 - val_loss: 0.2284 - val_accuracy: 0.9000\n",
            "Epoch 20/100\n",
            "20/20 - 0s - loss: 0.2373 - accuracy: 0.9094 - val_loss: 0.3034 - val_accuracy: 0.8875\n",
            "Epoch 21/100\n",
            "20/20 - 0s - loss: 0.2124 - accuracy: 0.9187 - val_loss: 0.3095 - val_accuracy: 0.9250\n",
            "Epoch 22/100\n",
            "20/20 - 0s - loss: 0.2131 - accuracy: 0.9219 - val_loss: 0.2785 - val_accuracy: 0.9125\n",
            "Epoch 23/100\n",
            "20/20 - 0s - loss: 0.2063 - accuracy: 0.9219 - val_loss: 0.3086 - val_accuracy: 0.9250\n",
            "Epoch 24/100\n",
            "20/20 - 0s - loss: 0.2081 - accuracy: 0.9187 - val_loss: 0.2955 - val_accuracy: 0.9125\n",
            "Epoch 25/100\n",
            "20/20 - 0s - loss: 0.2059 - accuracy: 0.9219 - val_loss: 0.2868 - val_accuracy: 0.9250\n",
            "Epoch 26/100\n",
            "20/20 - 0s - loss: 0.2077 - accuracy: 0.9187 - val_loss: 0.3533 - val_accuracy: 0.9125\n",
            "Epoch 27/100\n",
            "20/20 - 0s - loss: 0.2089 - accuracy: 0.9156 - val_loss: 0.3381 - val_accuracy: 0.9375\n",
            "Epoch 28/100\n",
            "20/20 - 0s - loss: 0.2051 - accuracy: 0.9187 - val_loss: 0.3739 - val_accuracy: 0.9125\n",
            "Epoch 29/100\n",
            "20/20 - 0s - loss: 0.2006 - accuracy: 0.9187 - val_loss: 0.2194 - val_accuracy: 0.9250\n",
            "Epoch 30/100\n",
            "20/20 - 0s - loss: 0.1982 - accuracy: 0.9250 - val_loss: 0.3846 - val_accuracy: 0.9125\n",
            "Epoch 31/100\n",
            "20/20 - 0s - loss: 0.1997 - accuracy: 0.9219 - val_loss: 0.3032 - val_accuracy: 0.9250\n",
            "Epoch 32/100\n",
            "20/20 - 0s - loss: 0.1994 - accuracy: 0.9156 - val_loss: 0.4594 - val_accuracy: 0.8875\n",
            "Epoch 33/100\n",
            "20/20 - 0s - loss: 0.2049 - accuracy: 0.9219 - val_loss: 0.3165 - val_accuracy: 0.9375\n",
            "Epoch 34/100\n",
            "20/20 - 0s - loss: 0.1974 - accuracy: 0.9312 - val_loss: 0.3228 - val_accuracy: 0.9125\n",
            "Epoch 35/100\n",
            "20/20 - 0s - loss: 0.1972 - accuracy: 0.9187 - val_loss: 0.3241 - val_accuracy: 0.9125\n",
            "Epoch 36/100\n",
            "20/20 - 0s - loss: 0.1968 - accuracy: 0.9219 - val_loss: 0.3153 - val_accuracy: 0.9250\n",
            "Epoch 37/100\n",
            "20/20 - 0s - loss: 0.1964 - accuracy: 0.9219 - val_loss: 0.3454 - val_accuracy: 0.9375\n",
            "Epoch 38/100\n",
            "20/20 - 0s - loss: 0.1838 - accuracy: 0.9281 - val_loss: 0.2396 - val_accuracy: 0.9375\n",
            "Epoch 39/100\n",
            "20/20 - 0s - loss: 0.1835 - accuracy: 0.9250 - val_loss: 0.3669 - val_accuracy: 0.8875\n",
            "Epoch 40/100\n",
            "20/20 - 0s - loss: 0.1886 - accuracy: 0.9187 - val_loss: 0.4072 - val_accuracy: 0.9250\n",
            "Epoch 41/100\n",
            "20/20 - 0s - loss: 0.1870 - accuracy: 0.9156 - val_loss: 0.3117 - val_accuracy: 0.9125\n",
            "Epoch 42/100\n",
            "20/20 - 0s - loss: 0.1821 - accuracy: 0.9219 - val_loss: 0.4639 - val_accuracy: 0.9250\n",
            "Epoch 43/100\n",
            "20/20 - 0s - loss: 0.2075 - accuracy: 0.9187 - val_loss: 0.4088 - val_accuracy: 0.9250\n",
            "Epoch 44/100\n",
            "20/20 - 0s - loss: 0.1801 - accuracy: 0.9250 - val_loss: 0.2975 - val_accuracy: 0.9375\n",
            "Epoch 45/100\n",
            "20/20 - 0s - loss: 0.1852 - accuracy: 0.9219 - val_loss: 0.2852 - val_accuracy: 0.9250\n",
            "Epoch 46/100\n",
            "20/20 - 0s - loss: 0.1848 - accuracy: 0.9281 - val_loss: 0.3137 - val_accuracy: 0.9250\n",
            "Epoch 47/100\n",
            "20/20 - 0s - loss: 0.1779 - accuracy: 0.9312 - val_loss: 0.3113 - val_accuracy: 0.9000\n",
            "Epoch 48/100\n",
            "20/20 - 0s - loss: 0.1940 - accuracy: 0.9094 - val_loss: 0.4287 - val_accuracy: 0.8750\n",
            "Epoch 49/100\n",
            "20/20 - 0s - loss: 0.1774 - accuracy: 0.9125 - val_loss: 0.3114 - val_accuracy: 0.9250\n",
            "Epoch 50/100\n",
            "20/20 - 0s - loss: 0.1741 - accuracy: 0.9375 - val_loss: 0.3563 - val_accuracy: 0.9000\n",
            "Epoch 51/100\n",
            "20/20 - 0s - loss: 0.1885 - accuracy: 0.9250 - val_loss: 0.3055 - val_accuracy: 0.9375\n",
            "Epoch 52/100\n",
            "20/20 - 0s - loss: 0.1717 - accuracy: 0.9281 - val_loss: 0.3048 - val_accuracy: 0.9250\n",
            "Epoch 53/100\n",
            "20/20 - 0s - loss: 0.1797 - accuracy: 0.9062 - val_loss: 0.3049 - val_accuracy: 0.9250\n",
            "Epoch 54/100\n",
            "20/20 - 0s - loss: 0.1739 - accuracy: 0.9219 - val_loss: 0.3178 - val_accuracy: 0.9375\n",
            "Epoch 55/100\n",
            "20/20 - 0s - loss: 0.1708 - accuracy: 0.9219 - val_loss: 0.3113 - val_accuracy: 0.9125\n",
            "Epoch 56/100\n",
            "20/20 - 0s - loss: 0.1612 - accuracy: 0.9312 - val_loss: 0.3565 - val_accuracy: 0.9000\n",
            "Epoch 57/100\n",
            "20/20 - 0s - loss: 0.1652 - accuracy: 0.9250 - val_loss: 0.3333 - val_accuracy: 0.9250\n",
            "Epoch 58/100\n",
            "20/20 - 0s - loss: 0.1685 - accuracy: 0.9219 - val_loss: 0.2876 - val_accuracy: 0.9250\n",
            "Epoch 59/100\n",
            "20/20 - 0s - loss: 0.1687 - accuracy: 0.9250 - val_loss: 0.3393 - val_accuracy: 0.9000\n",
            "Epoch 60/100\n",
            "20/20 - 0s - loss: 0.1593 - accuracy: 0.9281 - val_loss: 0.3223 - val_accuracy: 0.9000\n",
            "Epoch 61/100\n",
            "20/20 - 0s - loss: 0.1708 - accuracy: 0.9219 - val_loss: 0.3290 - val_accuracy: 0.9000\n",
            "Epoch 62/100\n",
            "20/20 - 0s - loss: 0.1757 - accuracy: 0.9187 - val_loss: 0.3358 - val_accuracy: 0.9000\n",
            "Epoch 63/100\n",
            "20/20 - 0s - loss: 0.1717 - accuracy: 0.9312 - val_loss: 0.2955 - val_accuracy: 0.9250\n",
            "Epoch 64/100\n",
            "20/20 - 0s - loss: 0.1674 - accuracy: 0.9312 - val_loss: 0.3566 - val_accuracy: 0.9250\n",
            "Epoch 65/100\n",
            "20/20 - 0s - loss: 0.1624 - accuracy: 0.9344 - val_loss: 0.2908 - val_accuracy: 0.9000\n",
            "Epoch 66/100\n",
            "20/20 - 0s - loss: 0.1592 - accuracy: 0.9219 - val_loss: 0.2997 - val_accuracy: 0.9125\n",
            "Epoch 67/100\n",
            "20/20 - 0s - loss: 0.1591 - accuracy: 0.9281 - val_loss: 0.3001 - val_accuracy: 0.9000\n",
            "Epoch 68/100\n",
            "20/20 - 0s - loss: 0.1608 - accuracy: 0.9312 - val_loss: 0.2881 - val_accuracy: 0.9125\n",
            "Epoch 69/100\n",
            "20/20 - 0s - loss: 0.1599 - accuracy: 0.9219 - val_loss: 0.2956 - val_accuracy: 0.9125\n",
            "Epoch 70/100\n",
            "20/20 - 0s - loss: 0.1705 - accuracy: 0.9281 - val_loss: 0.2907 - val_accuracy: 0.9125\n",
            "Epoch 71/100\n",
            "20/20 - 0s - loss: 0.1654 - accuracy: 0.9250 - val_loss: 0.3211 - val_accuracy: 0.8875\n",
            "Epoch 72/100\n",
            "20/20 - 0s - loss: 0.1728 - accuracy: 0.9156 - val_loss: 0.3175 - val_accuracy: 0.9000\n",
            "Epoch 73/100\n",
            "20/20 - 0s - loss: 0.1668 - accuracy: 0.9187 - val_loss: 0.3586 - val_accuracy: 0.9125\n",
            "Epoch 74/100\n",
            "20/20 - 0s - loss: 0.1519 - accuracy: 0.9344 - val_loss: 0.3348 - val_accuracy: 0.9250\n",
            "Epoch 75/100\n",
            "20/20 - 0s - loss: 0.1524 - accuracy: 0.9406 - val_loss: 0.3522 - val_accuracy: 0.9250\n",
            "Epoch 76/100\n",
            "20/20 - 0s - loss: 0.1522 - accuracy: 0.9281 - val_loss: 0.3038 - val_accuracy: 0.9000\n",
            "Epoch 77/100\n",
            "20/20 - 0s - loss: 0.1479 - accuracy: 0.9281 - val_loss: 0.3040 - val_accuracy: 0.9125\n",
            "Epoch 78/100\n",
            "20/20 - 0s - loss: 0.1641 - accuracy: 0.9219 - val_loss: 0.3169 - val_accuracy: 0.9250\n",
            "Epoch 79/100\n",
            "20/20 - 0s - loss: 0.1767 - accuracy: 0.9187 - val_loss: 0.3979 - val_accuracy: 0.8750\n",
            "Epoch 80/100\n",
            "20/20 - 0s - loss: 0.1478 - accuracy: 0.9406 - val_loss: 0.3186 - val_accuracy: 0.9250\n",
            "Epoch 81/100\n",
            "20/20 - 0s - loss: 0.1510 - accuracy: 0.9344 - val_loss: 0.3182 - val_accuracy: 0.9125\n",
            "Epoch 82/100\n",
            "20/20 - 0s - loss: 0.1433 - accuracy: 0.9281 - val_loss: 0.3338 - val_accuracy: 0.9125\n",
            "Epoch 83/100\n",
            "20/20 - 0s - loss: 0.1524 - accuracy: 0.9344 - val_loss: 0.3220 - val_accuracy: 0.8875\n",
            "Epoch 84/100\n",
            "20/20 - 0s - loss: 0.1598 - accuracy: 0.9187 - val_loss: 0.3043 - val_accuracy: 0.9250\n",
            "Epoch 85/100\n",
            "20/20 - 0s - loss: 0.1552 - accuracy: 0.9281 - val_loss: 0.3317 - val_accuracy: 0.9125\n",
            "Epoch 86/100\n",
            "20/20 - 0s - loss: 0.1600 - accuracy: 0.9250 - val_loss: 0.3518 - val_accuracy: 0.8750\n",
            "Epoch 87/100\n",
            "20/20 - 0s - loss: 0.1469 - accuracy: 0.9312 - val_loss: 0.3363 - val_accuracy: 0.9125\n",
            "Epoch 88/100\n",
            "20/20 - 0s - loss: 0.1437 - accuracy: 0.9344 - val_loss: 0.3431 - val_accuracy: 0.9250\n",
            "Epoch 89/100\n",
            "20/20 - 0s - loss: 0.1398 - accuracy: 0.9344 - val_loss: 0.3360 - val_accuracy: 0.9000\n",
            "Epoch 90/100\n",
            "20/20 - 0s - loss: 0.1438 - accuracy: 0.9250 - val_loss: 0.3366 - val_accuracy: 0.9000\n",
            "Epoch 91/100\n",
            "20/20 - 0s - loss: 0.1464 - accuracy: 0.9344 - val_loss: 0.3953 - val_accuracy: 0.9125\n",
            "Epoch 92/100\n",
            "20/20 - 0s - loss: 0.1582 - accuracy: 0.9312 - val_loss: 0.3605 - val_accuracy: 0.9125\n",
            "Epoch 93/100\n",
            "20/20 - 0s - loss: 0.1564 - accuracy: 0.9312 - val_loss: 0.3651 - val_accuracy: 0.9125\n",
            "Epoch 94/100\n",
            "20/20 - 0s - loss: 0.1309 - accuracy: 0.9375 - val_loss: 0.3829 - val_accuracy: 0.9125\n",
            "Epoch 95/100\n",
            "20/20 - 0s - loss: 0.1436 - accuracy: 0.9438 - val_loss: 0.3265 - val_accuracy: 0.9000\n",
            "Epoch 96/100\n",
            "20/20 - 0s - loss: 0.1427 - accuracy: 0.9250 - val_loss: 0.3499 - val_accuracy: 0.9000\n",
            "Epoch 97/100\n",
            "20/20 - 0s - loss: 0.1350 - accuracy: 0.9531 - val_loss: 0.3484 - val_accuracy: 0.9000\n",
            "Epoch 98/100\n",
            "20/20 - 0s - loss: 0.1384 - accuracy: 0.9500 - val_loss: 0.3826 - val_accuracy: 0.9125\n",
            "Epoch 99/100\n",
            "20/20 - 0s - loss: 0.1385 - accuracy: 0.9375 - val_loss: 0.3499 - val_accuracy: 0.9250\n",
            "Epoch 100/100\n",
            "20/20 - 0s - loss: 0.1651 - accuracy: 0.9312 - val_loss: 0.4731 - val_accuracy: 0.9250\n"
          ],
          "name": "stdout"
        }
      ]
    },
    {
      "cell_type": "code",
      "metadata": {
        "id": "vAhg2aM9jyyu"
      },
      "source": [
        "ann.fit(x_train, y_train, batch_size = 16, epochs = 100, verbose=2)"
      ],
      "execution_count": null,
      "outputs": []
    },
    {
      "cell_type": "code",
      "metadata": {
        "id": "tTjk2bLHqxo9",
        "colab": {
          "base_uri": "https://localhost:8080/",
          "height": 573
        },
        "outputId": "9265c8a6-8f29-4109-e0e7-c4c229341a2e"
      },
      "source": [
        "import matplotlib.pyplot as plt\n",
        "\n",
        "plt.plot(history.history['accuracy'])\n",
        "plt.plot(history.history['val_accuracy'])\n",
        "plt.title('model accuracy')\n",
        "plt.ylabel('accuracy')\n",
        "plt.xlabel('epoch')\n",
        "plt.legend(['train', 'test'], loc='upper left')\n",
        "plt.show()\n",
        "\n",
        "plt.plot(history.history['loss'])\n",
        "plt.plot(history.history['val_loss'])\n",
        "plt.title('model loss')\n",
        "plt.ylabel('loss')\n",
        "plt.xlabel('epoch')\n",
        "plt.legend(['train', 'test'], loc='upper left')\n",
        "plt.show()"
      ],
      "execution_count": null,
      "outputs": [
        {
          "output_type": "display_data",
          "data": {
            "image/png": "[encoded data removed]",
            "text/plain": [
              "<Figure size 432x288 with 1 Axes>"
            ]
          },
          "metadata": {
            "tags": [],
            "needs_background": "light"
          }
        },
        {
          "output_type": "display_data",
          "data": {
            "image/png": "[encoded data removed]",
            "text/plain": [
              "<Figure size 432x288 with 1 Axes>"
            ]
          },
          "metadata": {
            "tags": [],
            "needs_background": "light"
          }
        }
      ]
    },
    {
      "cell_type": "markdown",
      "metadata": {
        "id": "z-_rg72t_0C3"
      },
      "source": [
        "Testing"
      ]
    },
    {
      "cell_type": "code",
      "metadata": {
        "id": "DEH-zVh8_3Fp"
      },
      "source": [
        "y_pred = ann.predict(x_test)\n",
        "y_predb = (y_pred > 0.5)\n",
        "#print(np.concatenate((y_pred.reshape(len(y_pred),1), y_test.reshape(len(y_test),1)),1))"
      ],
      "execution_count": null,
      "outputs": []
    },
    {
      "cell_type": "code",
      "metadata": {
        "id": "5dGJi54cr7gV",
        "colab": {
          "base_uri": "https://localhost:8080/"
        },
        "outputId": "830c3cc9-5ac3-4094-a17f-2f7df893db8c"
      },
      "source": [
        "from sklearn.preprocessing import MinMaxScaler\n",
        "import math\n",
        "\n",
        "count_total = 0\n",
        "count_value = 0\n",
        "\n",
        "mc = MinMaxScaler()\n",
        "for i in range(len(y_pred)):\n",
        "  y_predt = [y_pred[i]]\n",
        "  y_predt = np.transpose(y_predt)\n",
        "  y_predt = mc.fit_transform(y_predt)\n",
        "  y_predt = np.transpose(y_predt)\n",
        "  \n",
        "  armax=0.0\n",
        "  arv = 0.0\n",
        "  index1 = 0\n",
        "  index2 = 0\n",
        "  highest_membership = 0.95\n",
        "  lowest_membership = 0.0\n",
        "\n",
        "  for j in range(4):\n",
        "    if(armax<y_pred[i][j]):\n",
        "      armax = y_pred[i][j]\n",
        "    if(y_test[i][j]==1):\n",
        "      index1 = j\n",
        "    if(y_predt[0][j] > arv):\n",
        "      index2 = j\n",
        "      arv = y_predt[0][j]\n",
        "  \n",
        "  if(armax <= highest_membership and armax >= lowest_membership):\n",
        "    count_total += 1\n",
        "  if(armax<= highest_membership and armax >= lowest_membership and index1!=index2):\n",
        "    count_value += 1\n",
        "    print(y_test[i])\n",
        "    print(y_pred[i])\n",
        "    print(y_predt)\n",
        "    print(index1+1, \" \", index2+1, '\\n')\n",
        "    #print(np.sum(y_pred[i]), np.sum(y_predt))\n",
        "\n",
        "print(count_total, count_value)\n",
        "print(1-count_value/count_total)"
      ],
      "execution_count": null,
      "outputs": [
        {
          "output_type": "stream",
          "text": [
            "[1 0 0 0]\n",
            "[3.4422818e-01 6.5375382e-01 1.9502449e-03 6.7803587e-05]\n",
            "[[0.5264919  1.         0.00287973 0.        ]]\n",
            "1   2 \n",
            "\n",
            "[0 0 0 1]\n",
            "[0.00381871 0.09483853 0.88977695 0.01156584]\n",
            "[[0.         0.10273601 1.         0.00874435]]\n",
            "4   3 \n",
            "\n",
            "[0 0 1 0]\n",
            "[1.9309276e-03 9.3646580e-01 6.1513811e-02 8.9433204e-05]\n",
            "[[0.00196662 1.         0.06559796 0.        ]]\n",
            "3   2 \n",
            "\n",
            "[0 0 0 1]\n",
            "[9.098683e-01 5.956327e-05 8.426698e-02 5.805136e-03]\n",
            "[[1.         0.         0.09255508 0.00631514]]\n",
            "4   1 \n",
            "\n",
            "[1 0 0 0]\n",
            "[4.8052199e-02 3.9277709e-01 5.5906856e-01 1.0215848e-04]\n",
            "[[0.0857834  0.70250183 1.         0.        ]]\n",
            "1   3 \n",
            "\n",
            "[0 1 0 0]\n",
            "[2.3502879e-02 2.3602414e-01 7.4032015e-01 1.5286091e-04]\n",
            "[[0.03154695 0.31867293 1.0000001  0.        ]]\n",
            "2   3 \n",
            "\n",
            "[0 0 1 0]\n",
            "[6.3139725e-01 4.5418801e-05 2.3791356e-01 1.3064374e-01]\n",
            "[[1.0000001  0.         0.37676007 0.20685506]]\n",
            "3   1 \n",
            "\n",
            "28 7\n",
            "0.75\n"
          ],
          "name": "stdout"
        }
      ]
    },
    {
      "cell_type": "markdown",
      "metadata": {
        "id": "ZWp8psHnsHBh"
      },
      "source": [
        "Confusion Matrix for PD classification"
      ]
    },
    {
      "cell_type": "code",
      "metadata": {
        "id": "BPwW7GqcAGi4",
        "colab": {
          "base_uri": "https://localhost:8080/"
        },
        "outputId": "63c7a177-88db-44ef-cf99-f034c2372d13"
      },
      "source": [
        "from sklearn.metrics import confusion_matrix\n",
        "\n",
        "cm = confusion_matrix(y_test, y_predb)\n",
        "test_accuracy = cm[0,0] + cm[1,1]/np.sum(cm)\n",
        "print(cm)\n",
        "print(test_accuracy)"
      ],
      "execution_count": null,
      "outputs": [
        {
          "output_type": "stream",
          "text": [
            "[[83  3]\n",
            " [13  2]]\n",
            "83.01980198019803\n"
          ],
          "name": "stdout"
        }
      ]
    },
    {
      "cell_type": "markdown",
      "metadata": {
        "id": "kPL5dvGlsMsG"
      },
      "source": [
        "Confusion Matrix for Multiclass classification"
      ]
    },
    {
      "cell_type": "code",
      "metadata": {
        "id": "fLypEn5vr8tv",
        "colab": {
          "base_uri": "https://localhost:8080/"
        },
        "outputId": "20415711-c199-4a94-f265-ab11f0c0c225"
      },
      "source": [
        "from sklearn.metrics import confusion_matrix\n",
        "y_test_transpose = np.transpose(y_test)\n",
        "y_pred_transpose = np.transpose(y_predb)\n",
        "correct_predictions = 0\n",
        "total = 0\n",
        "for i in range(4):\n",
        "  cm = confusion_matrix(y_test_transpose[i], y_pred_transpose[i])\n",
        "  print(cm)\n",
        "  correct_predictions += cm[0][0] + cm[1][1]\n",
        "  total += np.sum(cm)\n",
        "\n",
        "test_accuracy = correct_predictions/total\n",
        "print(test_accuracy)\n"
      ],
      "execution_count": null,
      "outputs": [
        {
          "output_type": "stream",
          "text": [
            "[[69  5]\n",
            " [ 3 10]]\n",
            "[[59  3]\n",
            " [ 3 22]]\n",
            "[[49  5]\n",
            " [ 3 30]]\n",
            "[[70  1]\n",
            " [ 6 10]]\n",
            "0.9166666666666666\n"
          ],
          "name": "stdout"
        }
      ]
    },
    {
      "cell_type": "code",
      "metadata": {
        "id": "yoG85aKrTe2G"
      },
      "source": [
        "fname = \"Weights_DGANN.hdf5\"\n",
        "ann.save_weights(fname, overwrite=True)"
      ],
      "execution_count": null,
      "outputs": []
    },
    {
      "cell_type": "code",
      "metadata": {
        "id": "ARQfCAvdnlcx"
      },
      "source": [
        "fname = \"Weights_DGANN.hdf5\"\n",
        "ann.load_weights(fname)"
      ],
      "execution_count": null,
      "outputs": []
    },
    {
      "cell_type": "markdown",
      "metadata": {
        "id": "Qz4abfOKIbV-"
      },
      "source": [
        "Generating Coordinate points"
      ]
    },
    {
      "cell_type": "code",
      "metadata": {
        "id": "Hg4I5-aBIfPQ",
        "colab": {
          "base_uri": "https://localhost:8080/"
        },
        "outputId": "f4e92e6e-b3a5-4379-b7d8-d2b165eba29a"
      },
      "source": [
        "print(x_test[1])"
      ],
      "execution_count": null,
      "outputs": [
        {
          "output_type": "stream",
          "text": [
            "[ 0.04985667 -0.06357461  0.11803286  0.12997761 -0.16381506 -0.22141744\n",
            " -0.07818905 -0.94130615]\n"
          ],
          "name": "stdout"
        }
      ]
    }
  ]
}